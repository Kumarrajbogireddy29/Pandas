{
 "cells": [
  {
   "cell_type": "code",
   "execution_count": null,
   "id": "ffd52e6c-fe11-4b87-ae1c-14538fd90323",
   "metadata": {},
   "outputs": [],
   "source": [
    "#series\n",
    "A pandas series is like a column in a table \n",
    "it is one dimensional array holding data of any type"
   ]
  },
  {
   "cell_type": "code",
   "execution_count": 2,
   "id": "9cf044e8-e614-4e57-9fbc-9896199efd18",
   "metadata": {},
   "outputs": [
    {
     "name": "stdout",
     "output_type": "stream",
     "text": [
      "0    1\n",
      "1    3\n",
      "2    7\n",
      "3    6\n",
      "dtype: int64\n"
     ]
    }
   ],
   "source": [
    "import pandas as pd \n",
    "a=[1,3,7,6]\n",
    "myvar=pd.Series(a)\n",
    "print(myvar)"
   ]
  },
  {
   "cell_type": "code",
   "execution_count": null,
   "id": "f8891392-39dc-45d0-8441-c43f2625e497",
   "metadata": {},
   "outputs": [],
   "source": [
    "labels\n",
    "if nothing is specified the value are labelled with their  index no \n",
    "first value has index 0 second value has a index 1"
   ]
  },
  {
   "cell_type": "code",
   "execution_count": 5,
   "id": "a1448683-3d0e-4776-b43a-f693ed92847c",
   "metadata": {},
   "outputs": [
    {
     "name": "stdout",
     "output_type": "stream",
     "text": [
      "1\n"
     ]
    }
   ],
   "source": [
    "import pandas as pd \n",
    "a=[1,3,7,6]\n",
    "myvar=pd.Series(a)\n",
    "print(myvar[0])"
   ]
  },
  {
   "cell_type": "code",
   "execution_count": 9,
   "id": "0e8bca81-6247-46af-89f5-d4a9a73337bb",
   "metadata": {},
   "outputs": [
    {
     "name": "stdout",
     "output_type": "stream",
     "text": [
      "x    1\n",
      "y    2\n",
      "z    4\n",
      "dtype: int64\n",
      "2\n"
     ]
    }
   ],
   "source": [
    "import pandas as pd \n",
    "a = [1,2,4]\n",
    "myvar=pd.Series(a,index=[\"x\",\"y\",\"z\"])\n",
    "print(myvar)\n",
    "print(myvar[\"y\"])"
   ]
  },
  {
   "cell_type": "code",
   "execution_count": 11,
   "id": "46f710c1-3ada-4b18-a9b8-0710ea081beb",
   "metadata": {},
   "outputs": [
    {
     "name": "stdout",
     "output_type": "stream",
     "text": [
      "day1    420\n",
      "day2    380\n",
      "day3    390\n",
      "dtype: int64\n"
     ]
    }
   ],
   "source": [
    "#keyvalues objects as series \n",
    "import pandas as pd \n",
    "calories = {\"day1\":420,\"day2\":380,\"day3\":390}\n",
    "myvar=pd.Series(calories)\n",
    "print(myvar)"
   ]
  },
  {
   "cell_type": "code",
   "execution_count": null,
   "id": "662ebd07-7401-492f-8033-8c53e801a593",
   "metadata": {},
   "outputs": [],
   "source": [
    "data frames in pandas are usually multi dimensional tables called dataframes"
   ]
  },
  {
   "cell_type": "code",
   "execution_count": 14,
   "id": "4994a737-90b6-43f5-90f0-458d687f7af3",
   "metadata": {},
   "outputs": [
    {
     "name": "stdout",
     "output_type": "stream",
     "text": [
      "   calories  duration\n",
      "0        30        90\n",
      "1        40        70\n",
      "2        50        54\n"
     ]
    }
   ],
   "source": [
    "import pandas as pd \n",
    "data ={ \n",
    "    \"calories\" : [30,40,50],\n",
    "    \"duration\": [90,70,54]\n",
    "}\n",
    "myvar=pd.DataFrame(data)\n",
    "print(myvar)"
   ]
  },
  {
   "cell_type": "code",
   "execution_count": null,
   "id": "45b35303-f114-422d-9b08-af4ce9fc51f9",
   "metadata": {},
   "outputs": [],
   "source": []
  }
 ],
 "metadata": {
  "kernelspec": {
   "display_name": "Python 3 (ipykernel)",
   "language": "python",
   "name": "python3"
  },
  "language_info": {
   "codemirror_mode": {
    "name": "ipython",
    "version": 3
   },
   "file_extension": ".py",
   "mimetype": "text/x-python",
   "name": "python",
   "nbconvert_exporter": "python",
   "pygments_lexer": "ipython3",
   "version": "3.12.7"
  }
 },
 "nbformat": 4,
 "nbformat_minor": 5
}
