{
 "cells": [
  {
   "cell_type": "code",
   "execution_count": null,
   "id": "e4c15b99-8bc0-4902-8adf-16f161190d20",
   "metadata": {},
   "outputs": [],
   "source": [
    "#Fixing the wrong data "
   ]
  },
  {
   "cell_type": "code",
   "execution_count": null,
   "id": "22cd05db-c463-4f99-9a79-e9da87607004",
   "metadata": {},
   "outputs": [],
   "source": [
    "wrong data does not have to be empty cells or wrong format\n",
    "if can just be wrong like if someone registered '1999' instead of  1.99"
   ]
  },
  {
   "cell_type": "code",
   "execution_count": null,
   "id": "cd9b2125-2f7c-4013-b055-e0365a35f90b",
   "metadata": {},
   "outputs": [],
   "source": [
    "#one way is replacing the values "
   ]
  },
  {
   "cell_type": "code",
   "execution_count": null,
   "id": "3f72197d-ae7e-4488-9eba-e0af1f83eff3",
   "metadata": {},
   "outputs": [],
   "source": [
    "we can replace the values using the something else value "
   ]
  },
  {
   "cell_type": "code",
   "execution_count": null,
   "id": "05c68989-ac39-44c7-88ec-6e1d5c6dd566",
   "metadata": {},
   "outputs": [],
   "source": [
    "df.loc[7,\"Duration\"]=45"
   ]
  },
  {
   "cell_type": "code",
   "execution_count": null,
   "id": "352c6b0f-4cfe-4e29-8ea7-32af3d275308",
   "metadata": {},
   "outputs": [],
   "source": [
    "# for small datsets we can replace the values by on by one for larger datasets \n",
    "you can create some rules eg set some boundaries for legal values and replace \n",
    "any values that are outside of the boundaries "
   ]
  },
  {
   "cell_type": "code",
   "execution_count": null,
   "id": "23985bae-8118-4d65-8934-88a84e9e3041",
   "metadata": {},
   "outputs": [],
   "source": [
    "#so we use looping process here "
   ]
  },
  {
   "cell_type": "code",
   "execution_count": null,
   "id": "7e730460-0d4d-4dde-acac-a84f0634f1b7",
   "metadata": {},
   "outputs": [],
   "source": [
    "for x in df.index:\n",
    "    if df.loc[x,'Duration'] > 120:\n",
    "        df.loc[x,\"Duration\"] =120"
   ]
  },
  {
   "cell_type": "code",
   "execution_count": null,
   "id": "cec288cb-d5b8-482a-944b-c75c70e42acc",
   "metadata": {},
   "outputs": [],
   "source": [
    "#removing the entire rows "
   ]
  },
  {
   "cell_type": "code",
   "execution_count": null,
   "id": "c3f06cb7-f47f-4a81-abbe-3ea17a2a101e",
   "metadata": {},
   "outputs": [],
   "source": [
    "for x in df.index:\n",
    "    if df.loc[x,\"Duration\"] >120:\n",
    "    df.drop(x,inplace=True)"
   ]
  },
  {
   "cell_type": "code",
   "execution_count": null,
   "id": "fbf180eb-60ae-4726-b275-a3a4a27346f9",
   "metadata": {},
   "outputs": [],
   "source": [
    "#removing the duplicates "
   ]
  },
  {
   "cell_type": "code",
   "execution_count": null,
   "id": "ff502f7d-5865-4e67-9cd9-ef2717ff3103",
   "metadata": {},
   "outputs": [],
   "source": [
    "those which are registered more than one time"
   ]
  },
  {
   "cell_type": "code",
   "execution_count": null,
   "id": "284e29d5-6acd-446c-be8b-52df811594a2",
   "metadata": {},
   "outputs": [],
   "source": [
    "print(df.duplicated())"
   ]
  },
  {
   "cell_type": "code",
   "execution_count": null,
   "id": "0806405f-6b21-4188-99de-c966494ce498",
   "metadata": {},
   "outputs": [],
   "source": [
    "to remove duplicates, use the drop_duplicates() method"
   ]
  },
  {
   "cell_type": "code",
   "execution_count": null,
   "id": "e334cd03-283d-4a15-bfc3-48c7567458b9",
   "metadata": {},
   "outputs": [],
   "source": [
    "df.drop_duplicates(inplace=True)"
   ]
  }
 ],
 "metadata": {
  "kernelspec": {
   "display_name": "Python 3 (ipykernel)",
   "language": "python",
   "name": "python3"
  },
  "language_info": {
   "codemirror_mode": {
    "name": "ipython",
    "version": 3
   },
   "file_extension": ".py",
   "mimetype": "text/x-python",
   "name": "python",
   "nbconvert_exporter": "python",
   "pygments_lexer": "ipython3",
   "version": "3.12.7"
  }
 },
 "nbformat": 4,
 "nbformat_minor": 5
}
