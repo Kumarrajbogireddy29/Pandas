{
 "cells": [
  {
   "cell_type": "code",
   "execution_count": null,
   "id": "adb743f1-0166-4c75-9f82-242c6341fe2f",
   "metadata": {},
   "outputs": [],
   "source": [
    "#Pandas Tutorial\n",
    "#pandas is a python library\n",
    "#pandas is used to analyze the data"
   ]
  },
  {
   "cell_type": "code",
   "execution_count": 13,
   "id": "80b86b63-01d4-4516-908f-3dfaa869f39c",
   "metadata": {},
   "outputs": [
    {
     "name": "stdout",
     "output_type": "stream",
     "text": [
      "  Company Names     Cars Names      Engines CC/Battery Capacity HorsePower  \\\n",
      "0       FERRARI  SF90 STRADALE           V8             3990 cc     963 hp   \n",
      "1   ROLLS ROYCE        PHANTOM          V12             6749 cc     563 hp   \n",
      "2          Ford            KA+  1.2L Petrol            1,200 cc   70-85 hp   \n",
      "3      MERCEDES        GT 63 S           V8            3,982 cc     630 hp   \n",
      "4          AUDI     AUDI R8 Gt          V10            5,204 cc     602 hp   \n",
      "\n",
      "  Total Speed Performance(0 - 100 )KM/H      Cars Prices       Fuel Types  \\\n",
      "0    340 km/h                   2.5 sec      $1,100,000   plug in hyrbrid   \n",
      "1    250 km/h                   5.3 sec        $460,000            Petrol   \n",
      "2    165 km/h                  10.5 sec  $12,000-$15,000           Petrol   \n",
      "3    250 km/h                   3.2 sec        $161,000            Petrol   \n",
      "4    320 km/h                   3.6 sec        $253,290            Petrol   \n",
      "\n",
      "  Seats        Torque  \n",
      "0     2        800 Nm  \n",
      "1     5        900 Nm  \n",
      "2     5  100 - 140 Nm  \n",
      "3     4        900 Nm  \n",
      "4     2        560 Nm  \n"
     ]
    }
   ],
   "source": [
    "import pandas as pd\n",
    "df=pd.read_csv(\"cars.csv\",encoding='latin1')\n",
    "print(df.head())"
   ]
  },
  {
   "cell_type": "code",
   "execution_count": null,
   "id": "a595d4df-6ab7-42d9-ae67-0ba81383d089",
   "metadata": {},
   "outputs": [],
   "source": [
    "|#python is a python library used to working with datasets"
   ]
  },
  {
   "cell_type": "code",
   "execution_count": null,
   "id": "d241441a-d25d-4696-905d-3e0fb3d461f6",
   "metadata": {},
   "outputs": [],
   "source": [
    "it is a function for analyzing,cleanig,exploring and manipulating data."
   ]
  },
  {
   "cell_type": "code",
   "execution_count": null,
   "id": "bce45170-aa87-47d8-842b-4e6eac860a36",
   "metadata": {},
   "outputs": [],
   "source": [
    "pandas has a refernece panel data , and pytohn data analaysis  and was\n",
    "created by wes mckinney in 2008"
   ]
  },
  {
   "cell_type": "code",
   "execution_count": null,
   "id": "bc62ac4e-8c8d-467f-bf83-89bd6da2362b",
   "metadata": {},
   "outputs": [],
   "source": [
    "why we use ?\n",
    "pandas allow us to analyze big data and make conclusions based on the statistical theories"
   ]
  },
  {
   "cell_type": "code",
   "execution_count": null,
   "id": "c13c0b16-e036-47ba-aa7b-a0a1a40ed7b8",
   "metadata": {},
   "outputs": [],
   "source": [
    "pandas can clean messy data sets, and make readable and relevant"
   ]
  },
  {
   "cell_type": "code",
   "execution_count": null,
   "id": "da5c0bc0-d711-4507-b84c-a97ce9fc04cf",
   "metadata": {},
   "outputs": [],
   "source": [
    "where can pandas do?"
   ]
  },
  {
   "cell_type": "code",
   "execution_count": null,
   "id": "7366f1c7-1509-4919-8253-86cec1f6311d",
   "metadata": {},
   "outputs": [],
   "source": [
    "max value?\n",
    "min value?\n",
    "avg value?\n",
    "correlation b/w two more columns"
   ]
  },
  {
   "cell_type": "code",
   "execution_count": 14,
   "id": "ee00b140-f9e3-4162-92ed-a1d8201162f5",
   "metadata": {},
   "outputs": [
    {
     "name": "stdout",
     "output_type": "stream",
     "text": [
      "     Company Names         Cars Names                             Engines  \\\n",
      "1213        Toyota       Crown Signia                      2.5L Hybrid I4   \n",
      "1214        Toyota  4Runner (6th Gen)  2.4L Turbo I4 (i-FORCE MAX Hybrid)   \n",
      "1215        Toyota      Corolla Cross              2.0L Gas / 2.0L Hybrid   \n",
      "1216        Toyota             C-HR+                   1.8L / 2.0L Hybrid   \n",
      "1217        Toyota     RAV4 (6th Gen)        2.5L Hybrid / Plug-in Hybrid   \n",
      "\n",
      "        CC/Battery Capacity    HorsePower Total Speed  \\\n",
      "1213                2487 cc        240 hp    180 km/h   \n",
      "1214      2393 cc + Battery        326 hp    180 km/h   \n",
      "1215  1987 cc / Hybrid batt  169  196 hp    190 km/h   \n",
      "1216  1798 / 1987 cc + batt  140  198 hp    180 km/h   \n",
      "1217         2487 cc + batt  219  302 hp    200 km/h   \n",
      "\n",
      "     Performance(0 - 100 )KM/H        Cars Prices               Fuel Types  \\\n",
      "1213                   7.6 sec  $43,590  $48,000  Hybrid (Gas + Electric)   \n",
      "1214                   6.8 sec           $50,000                    Hybrid   \n",
      "1215             8.0  9.2 sec  $25,210  $29,135             Gas / Hybrid   \n",
      "1216            7.9  10.5 sec            33,000                   Hybrid   \n",
      "1217             6.0  8.1 sec  $29,000  $43,000         Hybrid / Plug-in   \n",
      "\n",
      "     Seats        Torque  \n",
      "1213     5        239 Nm  \n",
      "1214     7        630 Nm  \n",
      "1215     5  190  210 Nm  \n",
      "1216     5  190  205 Nm  \n",
      "1217     5  221  400 Nm  \n"
     ]
    }
   ],
   "source": [
    "import pandas as pd\n",
    "df=pd.read_csv(\"cars.csv\",encoding='latin1')\n",
    "print(df.tail())"
   ]
  },
  {
   "cell_type": "code",
   "execution_count": 15,
   "id": "44dc0453-60b2-4416-8da5-3f7d5d87d7d3",
   "metadata": {},
   "outputs": [],
   "source": [
    "import pandas"
   ]
  },
  {
   "cell_type": "code",
   "execution_count": 17,
   "id": "4dcdb3dc-4632-42e5-a72a-7076ad7871be",
   "metadata": {},
   "outputs": [
    {
     "name": "stdout",
     "output_type": "stream",
     "text": [
      "    cars  passings\n",
      "0    bmw         3\n",
      "1  volvo        72\n",
      "2   ford         1\n"
     ]
    }
   ],
   "source": [
    "import pandas\n",
    "mydataset = {\n",
    "    'cars' :[\"bmw\",\"volvo\",\"ford\"],\n",
    "    'passings':[3,72,1]\n",
    "}\n",
    "myvar = pandas.DataFrame(mydataset)\n",
    "print(myvar)"
   ]
  },
  {
   "cell_type": "code",
   "execution_count": null,
   "id": "7fb6f60c-8ff5-4aa1-807c-d4c682a80b68",
   "metadata": {},
   "outputs": [],
   "source": [
    "create an lais with as keyword while importing:"
   ]
  },
  {
   "cell_type": "code",
   "execution_count": 18,
   "id": "571d970e-7f2f-4065-80ae-f76daece5231",
   "metadata": {},
   "outputs": [
    {
     "name": "stdout",
     "output_type": "stream",
     "text": [
      "2.2.2\n"
     ]
    }
   ],
   "source": [
    "import pandas as pd \n",
    "print(pd.__version__)"
   ]
  },
  {
   "cell_type": "code",
   "execution_count": 21,
   "id": "d4ffb472-7efa-4c0a-b0b9-2327ba4436ad",
   "metadata": {},
   "outputs": [],
   "source": [
    "#a pandas  series is like column in a table"
   ]
  },
  {
   "cell_type": "code",
   "execution_count": 22,
   "id": "ac8b8756-08ed-405f-b16d-c2bf1cdc35ce",
   "metadata": {},
   "outputs": [],
   "source": [
    "#it is a one dimensional array holding data of any type "
   ]
  },
  {
   "cell_type": "code",
   "execution_count": null,
   "id": "34e5dd4e-4ea9-4696-8153-34dcbd8b3c4b",
   "metadata": {},
   "outputs": [],
   "source": []
  }
 ],
 "metadata": {
  "kernelspec": {
   "display_name": "Python 3 (ipykernel)",
   "language": "python",
   "name": "python3"
  },
  "language_info": {
   "codemirror_mode": {
    "name": "ipython",
    "version": 3
   },
   "file_extension": ".py",
   "mimetype": "text/x-python",
   "name": "python",
   "nbconvert_exporter": "python",
   "pygments_lexer": "ipython3",
   "version": "3.12.7"
  }
 },
 "nbformat": 4,
 "nbformat_minor": 5
}
