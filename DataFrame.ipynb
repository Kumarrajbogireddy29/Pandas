{
 "cells": [
  {
   "cell_type": "code",
   "execution_count": null,
   "id": "53ec2baf-070b-4949-a69a-c178a8ac393c",
   "metadata": {},
   "outputs": [],
   "source": [
    "#Dataframe \n",
    "A data frame is a 2 dimensional data structure , like a 2 dimensional array,\n",
    "or a table with the rows and columns "
   ]
  },
  {
   "cell_type": "code",
   "execution_count": 6,
   "id": "7c082a83-18ae-4ef6-8c4c-7a802649e5bc",
   "metadata": {},
   "outputs": [
    {
     "name": "stdout",
     "output_type": "stream",
     "text": [
      "   calories  duration\n",
      "0       490        50\n",
      "1       890        45\n",
      "2       789        89\n",
      "calories    490\n",
      "duration     50\n",
      "Name: 0, dtype: int64\n",
      "calories    789\n",
      "duration     89\n",
      "Name: 2, dtype: int64\n"
     ]
    }
   ],
   "source": [
    "import pandas as pd \n",
    "data = { \"calories\":[490,890,789],\n",
    "        \"duration\" :[50,45,89]\n",
    "\n",
    "       }\n",
    "df=pd.DataFrame(data)\n",
    "print(df)\n",
    "print(df.loc[0])\n",
    "print(df.loc[2])"
   ]
  },
  {
   "cell_type": "code",
   "execution_count": 8,
   "id": "9ebd72dd-d055-4416-bed0-a31091b644db",
   "metadata": {},
   "outputs": [],
   "source": [
    "#load files into a dataframe \n",
    "#import pandas as pd\n",
    "#df=pd.read_csv('data.csv')\n",
    "#print(df)"
   ]
  },
  {
   "cell_type": "code",
   "execution_count": null,
   "id": "a6b7b8e4-8c96-4a3c-b575-1b8f59aed70c",
   "metadata": {},
   "outputs": [],
   "source": []
  }
 ],
 "metadata": {
  "kernelspec": {
   "display_name": "Python 3 (ipykernel)",
   "language": "python",
   "name": "python3"
  },
  "language_info": {
   "codemirror_mode": {
    "name": "ipython",
    "version": 3
   },
   "file_extension": ".py",
   "mimetype": "text/x-python",
   "name": "python",
   "nbconvert_exporter": "python",
   "pygments_lexer": "ipython3",
   "version": "3.12.7"
  }
 },
 "nbformat": 4,
 "nbformat_minor": 5
}
